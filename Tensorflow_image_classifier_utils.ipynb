{
 "cells": [
  {
   "cell_type": "markdown",
   "metadata": {},
   "source": [
    "# Image classifier utilities"
   ]
  },
  {
   "cell_type": "markdown",
   "metadata": {},
   "source": [
    "<a id='top'></a>\n",
    "#### [Caractéristiques du modèle](#model)\n",
    "\n",
    "#### [Dataset](#dataset)  \n",
    "- [Ecriture TFRecords](#write_TFR)\n",
    "- [Lecture et décodage TFRecords](#read_TFR_base_model)  \n",
    "\n",
    "#### [Transfer learning: Feature extraction](#top_model)  \n",
    "- [Evaluation](#eval_feat_extract)  \n",
    "- [Visualisations](#visu_base)  \n",
    "\n",
    "#### [Transfer learning: Fine-tuning](#fine_tuning)  \n",
    "- [Evaluation](#eval_ft)  \n",
    "\n",
    "#### [Modèle pour inférence](#model_infer)  \n",
    "\n",
    "#### [Visualisation](#visu)  "
   ]
  },
  {
   "cell_type": "code",
   "execution_count": 18,
   "metadata": {},
   "outputs": [
    {
     "name": "stdout",
     "output_type": "stream",
     "text": [
      "The autoreload extension is already loaded. To reload it, use:\n",
      "  %reload_ext autoreload\n"
     ]
    }
   ],
   "source": [
    "%load_ext autoreload\n",
    "%autoreload 2\n",
    "%matplotlib inline\n",
    "import numpy as np\n",
    "import matplotlib.pyplot as plt\n",
    "import matplotlib.cm as cm # colormap\n",
    "import seaborn as sns\n",
    "\n",
    "import pandas as pd\n",
    "pd.options.display.max_rows = 2500\n",
    "pd.options.display.max_columns = 500\n",
    "import itertools\n",
    "\n",
    "import glob\n",
    "from tqdm.notebook import tqdm\n",
    "#.notebook.tqdm as tqdm\n",
    "import re\n",
    "import random\n",
    "\n",
    "import pickle\n",
    "from zipfile import ZipFile\n",
    "import os\n",
    "from PIL import Image\n",
    "import shutil\n",
    "\n",
    "from IPython.display import Image, display\n",
    "import datetime\n",
    "\n",
    "#pd.options.plotting.backend = \"plotly\"\n",
    "plt.rcParams['figure.figsize'] = [10, 5]\n",
    "\n",
    "import tensorflow as tf\n",
    "from tensorflow import keras\n",
    "from tensorflow.keras import layers\n",
    "\n",
    "from sklearn import metrics"
   ]
  },
  {
   "cell_type": "markdown",
   "metadata": {},
   "source": [
    "### VGG16 model caracteristics<a id='model'></a>\n",
    "\n",
    "[top](#top)"
   ]
  },
  {
   "cell_type": "code",
   "execution_count": 19,
   "metadata": {},
   "outputs": [],
   "source": [
    "IMAGE_DIM = 224\n",
    "image_size = (IMAGE_DIM, IMAGE_DIM)\n",
    "batch_size = 32"
   ]
  },
  {
   "cell_type": "code",
   "execution_count": 20,
   "metadata": {},
   "outputs": [],
   "source": [
    "# base_model : img --> block5pool\n",
    "base_model = tf.keras.applications.VGG16(include_top=False, \n",
    "                                         weights=\"imagenet\",\n",
    "                                         input_tensor=None,\n",
    "                                         input_shape=(IMAGE_DIM, IMAGE_DIM, 3),\n",
    "                                         pooling=None,\n",
    "                                         classes=1000,\n",
    "                                         classifier_activation=\"softmax\")\n",
    "base_model.trainable = False"
   ]
  },
  {
   "cell_type": "code",
   "execution_count": 21,
   "metadata": {},
   "outputs": [
    {
     "data": {
      "text/plain": [
       "((14, 14, 512), (7, 7, 512))"
      ]
     },
     "execution_count": 21,
     "metadata": {},
     "output_type": "execute_result"
    }
   ],
   "source": [
    "def get_base_model_features(img):\n",
    "    '''\n",
    "    Extract pool block4_pool and block5_pool tensors\n",
    "    '''\n",
    "    img = keras.preprocessing.image.load_img(img, target_size=image_size)\n",
    "    img_array = keras.preprocessing.image.img_to_array(img)\n",
    "    img_array = tf.expand_dims(img_array, 0)  # Create batch axis\n",
    "    img_array = tf.keras.applications.vgg16.preprocess_input(img_array)\n",
    "\n",
    "    extractor = keras.Model(inputs=base_model.inputs,\n",
    "                            outputs=[base_model.get_layer('block4_pool').output, \n",
    "                                     base_model.get_layer('block5_pool').output])\n",
    "    features = extractor(img_array)\n",
    "    features = [f[0] for f in features]\n",
    "    \n",
    "    block4_pool_tensor = features[0].numpy()\n",
    "    block5_pool_tensor = features[1].numpy()\n",
    "\n",
    "    return block4_pool_tensor, block5_pool_tensor\n",
    "\n",
    "img = glob.glob('./*.jpg')[0]\n",
    "get_base_model_features(img)[0].shape, get_base_model_features(img)[1].shape"
   ]
  },
  {
   "cell_type": "markdown",
   "metadata": {},
   "source": [
    "### Write TFRecords from directory of images<a id='write_TFR'></a>\n",
    "\n",
    "[top](#top)"
   ]
  },
  {
   "cell_type": "markdown",
   "metadata": {},
   "source": [
    "Classes from directory names"
   ]
  },
  {
   "cell_type": "code",
   "execution_count": 5,
   "metadata": {},
   "outputs": [],
   "source": [
    "# repertoires d'images\n",
    "DATA_JPG = '../../Data/datasets/data_img_V3/' # fichiers jpg d'origine\n",
    "DATA_JPG_categories = [x.split('/')[-1] for x in glob.glob(DATA_JPG + '/*')]\n",
    "\n",
    "category2label = {}\n",
    "for label, directory in enumerate(sorted(DATA_JPG_categories)):\n",
    "    category2label[directory] = label\n",
    "\n",
    "label2category = {v:k for (k,v) in category2label.items()}\n",
    "\n",
    "CATEGORY_IMAGE_DIRS = sorted([DATA_JPG + x for x in DATA_JPG_categories])"
   ]
  },
  {
   "cell_type": "code",
   "execution_count": 7,
   "metadata": {},
   "outputs": [
    {
     "data": {
      "text/plain": [
       "38"
      ]
     },
     "execution_count": 7,
     "metadata": {},
     "output_type": "execute_result"
    }
   ],
   "source": [
    "NUM_CLASSES = len(np.unique(list(category2label.values())))\n",
    "NUM_CLASSES"
   ]
  },
  {
   "cell_type": "markdown",
   "metadata": {},
   "source": [
    "Randomize filenames"
   ]
  },
  {
   "cell_type": "code",
   "execution_count": 8,
   "metadata": {},
   "outputs": [],
   "source": [
    "def get_randomized_file_list(path_str):\n",
    "    '''\n",
    "    renvoie une liste de fichiers jpeg randomisée\n",
    "    '''\n",
    "    path = path_str + '/*.jpg'\n",
    "    lst_img = glob.glob(path)\n",
    "    random.shuffle(lst_img)\n",
    "    return lst_img\n",
    "\n",
    "lst_jpg = []\n",
    "for category in CATEGORY_IMAGE_DIRS:\n",
    "    lst_jpg_directory = get_randomized_file_list(category)\n",
    "    lst_jpg += lst_jpg_directory\n",
    "    \n",
    "random.seed(2)\n",
    "random.shuffle(lst_jpg)"
   ]
  },
  {
   "cell_type": "code",
   "execution_count": 10,
   "metadata": {},
   "outputs": [
    {
     "data": {
      "text/plain": [
       "39440"
      ]
     },
     "execution_count": 10,
     "metadata": {},
     "output_type": "execute_result"
    }
   ],
   "source": [
    "len(lst_jpg)"
   ]
  },
  {
   "cell_type": "code",
   "execution_count": 11,
   "metadata": {},
   "outputs": [],
   "source": [
    "# labels\n",
    "file2label = {}\n",
    "\n",
    "for filename in (lst_jpg):\n",
    "    category = filename.split('/')[-2]\n",
    "    file2label[filename] = category2label[category]"
   ]
  },
  {
   "cell_type": "markdown",
   "metadata": {},
   "source": [
    "Split dataset, pickle list of filenames"
   ]
  },
  {
   "cell_type": "code",
   "execution_count": 13,
   "metadata": {},
   "outputs": [],
   "source": [
    "lst_img_tr = lst_jpg[:int(0.9*len(lst_jpg))]\n",
    "lst_img_val = lst_jpg[int(0.9*len(lst_jpg)):]"
   ]
  },
  {
   "cell_type": "raw",
   "metadata": {},
   "source": [
    "with open('lst_img_tr_V3.pkl', 'wb') as f:\n",
    "    pickle.dump(lst_img_tr, f)\n",
    "with open('lst_img_val_V3.pkl', 'wb') as f:\n",
    "    pickle.dump(lst_img_val, f)"
   ]
  },
  {
   "cell_type": "code",
   "execution_count": 15,
   "metadata": {},
   "outputs": [],
   "source": [
    "with open('./lst_img_tr_V3.pkl', 'rb') as f:\n",
    "    lst_img_tr = pickle.load(f)\n",
    "with open('./lst_img_val_V3.pkl', 'rb') as f:\n",
    "    lst_img_val = pickle.load(f)"
   ]
  },
  {
   "cell_type": "markdown",
   "metadata": {},
   "source": [
    "Write tensor datasets, tr + val split"
   ]
  },
  {
   "cell_type": "code",
   "execution_count": 16,
   "metadata": {},
   "outputs": [],
   "source": [
    "DATA_TENSORS = '/.../data_img_V3_tensors/'"
   ]
  },
  {
   "cell_type": "code",
   "execution_count": 17,
   "metadata": {},
   "outputs": [],
   "source": [
    "try:\n",
    "    os.mkdir(DATA_TENSORS)\n",
    "except Exception as e:\n",
    "    print(e)"
   ]
  },
  {
   "cell_type": "markdown",
   "metadata": {},
   "source": [
    "val dataset :  each shard contains features extracted from `block4_pool` and `block5_pool` and then serialized (reshaped to lists)"
   ]
  },
  {
   "cell_type": "code",
   "execution_count": null,
   "metadata": {},
   "outputs": [],
   "source": [
    "index = 0\n",
    "n_images_shard = 400 # 400 images per shard\n",
    "n_shards = int(len(lst_img_val) / n_images_shard) + (1 if len(lst_img_val) % n_images_shard != 0 else 0)\n",
    "\n",
    "#https://medium.com/@rodrigobrechard/tfrecords-how-to-use-sharding-94059e2b2c6b\n",
    "for shard in tqdm(range(n_shards)):\n",
    "    tfrecords_shard_path = \"{}_{}.tfrecord\".format(DATA_TENSORS \n",
    "                                                   + 'img_data_val_', '%.5d-of-%.5d' % (shard, n_shards - 1))\n",
    "    end = index + n_images_shard if len(lst_img_val) > (index + n_images_shard) else -1\n",
    "    images_shard_list = lst_img_val[index: end]\n",
    "\n",
    "    #https://stackoverflow.com/a/45428167\n",
    "    with tf.io.TFRecordWriter(tfrecords_shard_path) as writer:\n",
    "\n",
    "        for img in (images_shard_list):\n",
    "            try:\n",
    "                base_model_features = get_base_model_features(img)\n",
    "                lbl = file2label[img]\n",
    "                example = tf.train.Example(features=tf.train.Features(\n",
    "                    feature={\n",
    "                    'block4_pool_tensor':tf.train.Feature(\n",
    "                        float_list=tf.train.FloatList(value=base_model_features[0].reshape(-1))\n",
    "                    ),\n",
    "                    'block5_pool_tensor':tf.train.Feature(\n",
    "                        float_list=tf.train.FloatList(value=base_model_features[1].reshape(-1))\n",
    "                    ),\n",
    "                    'lbl':tf.train.Feature(\n",
    "                        int64_list=tf.train.Int64List(value=[lbl])),\n",
    "                    'filename': tf.train.Feature(\n",
    "                        bytes_list=tf.train.BytesList(\n",
    "                            value=['__'.join(img.split('../../Data/datasets/')[-1].split('/')).encode('utf-8')])\n",
    "                        )\n",
    "                    })\n",
    "                                          )\n",
    "                writer.write(example.SerializeToString())\n",
    "            except Exception as e:\n",
    "                print(img, e)\n",
    "            \n",
    "    index = end\n",
    "#100%|██████████| 115/115 [4:02:21<00:00, 126.45s/it]  "
   ]
  },
  {
   "cell_type": "markdown",
   "metadata": {},
   "source": [
    "(same for tr)"
   ]
  },
  {
   "cell_type": "markdown",
   "metadata": {},
   "source": [
    "### Read and decode TFRecords<a id='read_TFR_base_model'></a>\n",
    "[top](#top)"
   ]
  },
  {
   "cell_type": "code",
   "execution_count": 20,
   "metadata": {},
   "outputs": [],
   "source": [
    "files_tr = tf.io.matching_files('../../Data/datasets/data_img_V3_tensors/img_data_tr__*.tfrecord')\n",
    "files_val = tf.io.matching_files('../../Data/datasets/data_img_V3_tensors/img_data_val__*.tfrecord')"
   ]
  },
  {
   "cell_type": "code",
   "execution_count": 21,
   "metadata": {},
   "outputs": [],
   "source": [
    "#https://stackoverflow.com/a/56282436\n",
    "raw_files_tr_ds = tf.data.TFRecordDataset(files_tr,\n",
    "                                         compression_type=None,    # or 'GZIP', 'ZLIB' if compress you data.\n",
    "                                         buffer_size=None,        # any buffer size you want or 0 means no buffering\n",
    "                                         num_parallel_reads=os.cpu_count()  # or 0 means sequentially reading\n",
    "                                         )\n",
    "raw_files_val_ds = tf.data.TFRecordDataset(files_val,\n",
    "                                         compression_type=None,    \n",
    "                                         buffer_size=None,        \n",
    "                                         num_parallel_reads=os.cpu_count() \n",
    "                                         )"
   ]
  },
  {
   "cell_type": "code",
   "execution_count": null,
   "metadata": {},
   "outputs": [],
   "source": [
    "%%time\n",
    "# Determine the length of the Dataset\n",
    "dataset_length = 0\n",
    "for x in raw_files_tr_ds:\n",
    "    dataset_length += 1\n",
    "print(dataset_length)"
   ]
  },
  {
   "cell_type": "raw",
   "metadata": {},
   "source": [
    "print(next(iter(raw_files_tr_ds)).numpy())"
   ]
  },
  {
   "cell_type": "code",
   "execution_count": 22,
   "metadata": {},
   "outputs": [
    {
     "data": {
      "text/plain": [
       "(100352, 25088)"
      ]
     },
     "execution_count": 22,
     "metadata": {},
     "output_type": "execute_result"
    }
   ],
   "source": [
    "raw_base_model_feature = get_base_model_features(glob.glob('../../Data/datasets/data_test/*.jpg')[0])\n",
    "raw_base_model_feature[0].reshape(-1).shape[0], raw_base_model_feature[1].reshape(-1).shape[0]"
   ]
  },
  {
   "cell_type": "markdown",
   "metadata": {},
   "source": [
    "Decode tfrecords"
   ]
  },
  {
   "cell_type": "code",
   "execution_count": 23,
   "metadata": {},
   "outputs": [],
   "source": [
    "# example proto decode\n",
    "def _parse_function(example_proto):\n",
    "    keys_to_features = {'block4_pool_tensor':tf.io.FixedLenFeature([raw_base_model_feature[0].reshape(-1).shape[0]],\n",
    "                                                          tf.float32),\n",
    "                        'block5_pool_tensor':tf.io.FixedLenFeature([raw_base_model_feature[1].reshape(-1).shape[0]],\n",
    "                                                          tf.float32),\n",
    "                        'lbl': tf.io.FixedLenFeature((), tf.int64, default_value=0), \n",
    "                        'filename': tf.io.FixedLenFeature([], tf.string, default_value='')}\n",
    "    parsed_features = tf.io.parse_single_example(example_proto, keys_to_features)\n",
    "    \n",
    "    return parsed_features\n",
    "\n",
    "# Parse the record into serialized tensors\n",
    "base_model_serialized_tr_ds = raw_files_tr_ds.map(_parse_function)  \n",
    "base_model_serialized_val_ds = raw_files_val_ds.map(_parse_function)  "
   ]
  },
  {
   "cell_type": "markdown",
   "metadata": {},
   "source": [
    "#### Remap labels"
   ]
  },
  {
   "cell_type": "markdown",
   "metadata": {},
   "source": [
    "https://stackoverflow.com/a/70132911"
   ]
  },
  {
   "cell_type": "code",
   "execution_count": 24,
   "metadata": {},
   "outputs": [
    {
     "data": {
      "text/plain": [
       "array([ 0,  1,  2,  3,  4,  5,  6,  7,  8,  9, 10, 11, 12, 13, 14, 15, 16,\n",
       "       17, 18, 19, 20, 21, 22, 23, 24, 25, 26, 27, 28, 29, 30, 31, 32, 33,\n",
       "       34, 35, 36, 37])"
      ]
     },
     "execution_count": 24,
     "metadata": {},
     "output_type": "execute_result"
    }
   ],
   "source": [
    "labels = []\n",
    "for x in base_model_serialized_tr_ds:\n",
    "    labels.append(x['lbl'].numpy())\n",
    "\n",
    "np.unique(labels)"
   ]
  },
  {
   "cell_type": "code",
   "execution_count": null,
   "metadata": {},
   "outputs": [],
   "source": [
    "category2label_remapped = {'aaa': 0,\n",
    " 'bbb': 1,\n",
    " 'xxx': 1,\n",
    " 'yyy': 2,\n",
    "  ...\n",
    " }"
   ]
  },
  {
   "cell_type": "code",
   "execution_count": 26,
   "metadata": {},
   "outputs": [],
   "source": [
    "remap_dict = {v1:v2 for (v1,v2) in zip(category2label.values(), category2label_remapped.values())}"
   ]
  },
  {
   "cell_type": "code",
   "execution_count": 27,
   "metadata": {},
   "outputs": [],
   "source": [
    "table = tf.lookup.StaticHashTable(\n",
    "    initializer=tf.lookup.KeyValueTensorInitializer(\n",
    "        keys=tf.constant(list(remap_dict.keys()), dtype=tf.int64),\n",
    "        values=tf.constant(list(remap_dict.values()),  dtype=tf.int64),\n",
    "    ),\n",
    "    default_value= tf.constant(0,  dtype=tf.int64)\n",
    ")"
   ]
  },
  {
   "cell_type": "code",
   "execution_count": 28,
   "metadata": {},
   "outputs": [],
   "source": [
    "def relabel(example):\n",
    "    example['lbl'] = table.lookup(example['lbl'])\n",
    "    return example\n",
    "\n",
    "base_model_serialized_tr_ds = base_model_serialized_tr_ds.map(relabel)\n",
    "base_model_serialized_val_ds = base_model_serialized_val_ds.map(relabel)"
   ]
  },
  {
   "cell_type": "code",
   "execution_count": 29,
   "metadata": {},
   "outputs": [],
   "source": [
    "labels = []\n",
    "for x in base_model_serialized_tr_ds:\n",
    "    labels.append(x['lbl'].numpy())"
   ]
  },
  {
   "cell_type": "code",
   "execution_count": 30,
   "metadata": {},
   "outputs": [
    {
     "data": {
      "text/plain": [
       "13"
      ]
     },
     "execution_count": 30,
     "metadata": {},
     "output_type": "execute_result"
    }
   ],
   "source": [
    "NUM_CLASSES = len(np.unique(labels))\n",
    "NUM_CLASSES"
   ]
  },
  {
   "cell_type": "markdown",
   "metadata": {},
   "source": [
    "Extract serialized (unfolded) tensors `block4_pool` and `block5_pool`"
   ]
  },
  {
   "cell_type": "code",
   "execution_count": 31,
   "metadata": {},
   "outputs": [],
   "source": [
    "base_model_block4_pool_serialized_tr_ds = base_model_serialized_tr_ds.map(lambda x:(x['block4_pool_tensor'],\n",
    "                                                                                    x['lbl']))\n",
    "base_model_block4_pool_serialized_val_ds = base_model_serialized_val_ds.map(lambda x:(x['block4_pool_tensor'],\n",
    "                                                                                    x['lbl']))\n",
    "base_model_block5_pool_serialized_tr_ds = base_model_serialized_tr_ds.map(lambda x:(x['block5_pool_tensor'],\n",
    "                                                                                    x['lbl']))\n",
    "base_model_block5_pool_serialized_val_ds = base_model_serialized_val_ds.map(lambda x:(x['block5_pool_tensor'],\n",
    "                                                                                    x['lbl']))"
   ]
  },
  {
   "cell_type": "raw",
   "metadata": {},
   "source": [
    "base_model_block4_pool_serialized_tr_ds = base_model_serialized_tr_ds.map(lambda x,y,z,t:(x,z))\n",
    "base_model_block4_pool_serialized_val_ds = base_model_serialized_val_ds.map(lambda x,y,z,t:(x,z))\n",
    "base_model_block5_pool_serialized_tr_ds = base_model_serialized_tr_ds.map(lambda x,y,z,t:(y,z))\n",
    "base_model_block5_pool_serialized_val_ds = base_model_serialized_val_ds.map(lambda x,y,z,t:(y,z))"
   ]
  },
  {
   "cell_type": "markdown",
   "metadata": {},
   "source": [
    "Fold tensors back into their original shape"
   ]
  },
  {
   "cell_type": "code",
   "execution_count": 32,
   "metadata": {},
   "outputs": [],
   "source": [
    "# for fine-tuning\n",
    "def reshape_to_block4_pool_tensor(x,y):\n",
    "    return tf.reshape(x, list(raw_base_model_feature[0].shape)), y\n",
    "\n",
    "base_model_block4_pool_tr_ds = base_model_block4_pool_serialized_tr_ds.map(reshape_to_block4_pool_tensor)\n",
    "base_model_block4_pool_tr_ds = base_model_block4_pool_tr_ds.batch(batch_size, drop_remainder=True)\n",
    "base_model_block4_pool_tr_ds = base_model_block4_pool_tr_ds.prefetch(tf.data.AUTOTUNE)\n",
    "\n",
    "base_model_block4_pool_val_ds = base_model_block4_pool_serialized_val_ds.map(reshape_to_block4_pool_tensor)\n",
    "base_model_block4_pool_val_ds = base_model_block4_pool_val_ds.batch(batch_size, drop_remainder=True)\n",
    "base_model_block4_pool_val_ds = base_model_block4_pool_val_ds.prefetch(tf.data.AUTOTUNE)"
   ]
  },
  {
   "cell_type": "code",
   "execution_count": 33,
   "metadata": {},
   "outputs": [],
   "source": [
    "# for feat extraction\n",
    "def reshape_to_block5_pool_tensor(x,y):\n",
    "    return tf.reshape(x, list(raw_base_model_feature[1].shape)), y\n",
    "\n",
    "base_model_block5_pool_tr_ds = base_model_block5_pool_serialized_tr_ds.map(reshape_to_block5_pool_tensor)\n",
    "base_model_block5_pool_tr_ds = base_model_block5_pool_tr_ds.batch(batch_size, drop_remainder=True)\n",
    "base_model_block5_pool_tr_ds = base_model_block5_pool_tr_ds.prefetch(tf.data.AUTOTUNE)\n",
    "\n",
    "base_model_block5_pool_val_ds = base_model_block5_pool_serialized_val_ds.map(reshape_to_block5_pool_tensor)\n",
    "base_model_block5_pool_val_ds = base_model_block5_pool_val_ds.batch(batch_size, drop_remainder=True)\n",
    "base_model_block5_pool_val_ds = base_model_block5_pool_val_ds.prefetch(tf.data.AUTOTUNE)"
   ]
  },
  {
   "cell_type": "markdown",
   "metadata": {},
   "source": [
    "## Transfer learning : Feature extraction model<a id='top_model'></a>\n",
    "\n",
    "[top](#top)"
   ]
  },
  {
   "cell_type": "code",
   "execution_count": 34,
   "metadata": {},
   "outputs": [
    {
     "name": "stdout",
     "output_type": "stream",
     "text": [
      "Model: \"model_39441\"\n",
      "_________________________________________________________________\n",
      " Layer (type)                Output Shape              Param #   \n",
      "=================================================================\n",
      " input_2 (InputLayer)        [(None, 7, 7, 512)]       0         \n",
      "                                                                 \n",
      " global_average_pooling2d (G  (None, 512)              0         \n",
      " lobalAveragePooling2D)                                          \n",
      "                                                                 \n",
      " dropout (Dropout)           (None, 512)               0         \n",
      "                                                                 \n",
      " dense (Dense)               (None, 13)                6669      \n",
      "                                                                 \n",
      "=================================================================\n",
      "Total params: 6,669\n",
      "Trainable params: 6,669\n",
      "Non-trainable params: 0\n",
      "_________________________________________________________________\n"
     ]
    }
   ],
   "source": [
    "inputs = keras.Input(shape=tuple(base_model.layers[-1].output.shape.as_list()[1:]))\n",
    "x = keras.layers.GlobalAveragePooling2D()(inputs)\n",
    "x = keras.layers.Dropout(0.2)(x)  # Regularize with dropout\n",
    "outputs = keras.layers.Dense(NUM_CLASSES, activation='softmax')(x)\n",
    "\n",
    "VGG16_feature_extraction_model = keras.Model(inputs, outputs)\n",
    "\n",
    "VGG16_feature_extraction_model.summary()"
   ]
  },
  {
   "cell_type": "code",
   "execution_count": 35,
   "metadata": {},
   "outputs": [],
   "source": [
    "log_dir = \"logs/fit/\" + datetime.datetime.now().strftime(\"%Y%m%d-%H%M%S\")\n",
    "tensorboard_callback = tf.keras.callbacks.TensorBoard(log_dir=log_dir, histogram_freq=1)\n",
    "\n",
    "callbacks = [\n",
    "    #keras.callbacks.ModelCheckpoint(\"save_at_{epoch}.h5\"),\n",
    "    keras.callbacks.EarlyStopping(monitor=\"val_loss\",\n",
    "                                  patience=5,\n",
    "                                  verbose=0,\n",
    "                                  mode=\"auto\",\n",
    "                                  baseline=None,\n",
    "                                  restore_best_weights=True,\n",
    "                                 ),\n",
    "    tensorboard_callback\n",
    "    ]"
   ]
  },
  {
   "cell_type": "code",
   "execution_count": 36,
   "metadata": {},
   "outputs": [],
   "source": [
    "epochs = 200\n",
    "\n",
    "VGG16_feature_extraction_model.compile(\n",
    "    optimizer=keras.optimizers.Adam(1e-4),\n",
    "    loss=\"sparse_categorical_crossentropy\",\n",
    "    metrics=[\"accuracy\"]\n",
    ")"
   ]
  },
  {
   "cell_type": "code",
   "execution_count": 37,
   "metadata": {
    "scrolled": true
   },
   "outputs": [
    {
     "name": "stdout",
     "output_type": "stream",
     "text": [
      "Epoch 1/200\n",
      "1109/1109 [==============================] - 16s 14ms/step - loss: 3.5506 - accuracy: 0.4360 - val_loss: 0.7596 - val_accuracy: 0.7701\n",
      "Epoch 2/200\n",
      "1109/1109 [==============================] - 13s 12ms/step - loss: 0.9377 - accuracy: 0.7362 - val_loss: 0.4080 - val_accuracy: 0.9029\n",
      "Epoch 3/200\n",
      "1109/1109 [==============================] - 13s 12ms/step - loss: 0.5138 - accuracy: 0.8433 - val_loss: 0.2887 - val_accuracy: 0.9276\n",
      "Epoch 4/200\n",
      "1109/1109 [==============================] - 14s 13ms/step - loss: 0.3689 - accuracy: 0.8861 - val_loss: 0.2356 - val_accuracy: 0.9413\n",
      "Epoch 5/200\n",
      "1109/1109 [==============================] - 14s 13ms/step - loss: 0.2979 - accuracy: 0.9095 - val_loss: 0.2035 - val_accuracy: 0.9477\n",
      "Epoch 6/200\n",
      "1109/1109 [==============================] - 13s 12ms/step - loss: 0.2569 - accuracy: 0.9212 - val_loss: 0.1780 - val_accuracy: 0.9512\n",
      "Epoch 7/200\n",
      "1109/1109 [==============================] - 14s 13ms/step - loss: 0.2290 - accuracy: 0.9289 - val_loss: 0.1615 - val_accuracy: 0.9563\n",
      "Epoch 8/200\n",
      "1109/1109 [==============================] - 15s 13ms/step - loss: 0.2087 - accuracy: 0.9384 - val_loss: 0.1496 - val_accuracy: 0.9586\n",
      "Epoch 9/200\n",
      "1109/1109 [==============================] - 14s 13ms/step - loss: 0.1937 - accuracy: 0.9409 - val_loss: 0.1373 - val_accuracy: 0.9644\n",
      "Epoch 10/200\n",
      "1109/1109 [==============================] - 19s 17ms/step - loss: 0.1830 - accuracy: 0.9438 - val_loss: 0.1316 - val_accuracy: 0.9677\n",
      "Epoch 11/200\n",
      "1109/1109 [==============================] - 23s 21ms/step - loss: 0.1731 - accuracy: 0.9470 - val_loss: 0.1229 - val_accuracy: 0.9710\n",
      "Epoch 12/200\n",
      "1109/1109 [==============================] - 17s 15ms/step - loss: 0.1676 - accuracy: 0.9496 - val_loss: 0.1173 - val_accuracy: 0.9715\n",
      "Epoch 13/200\n",
      "1109/1109 [==============================] - 17s 15ms/step - loss: 0.1605 - accuracy: 0.9496 - val_loss: 0.1123 - val_accuracy: 0.9738\n",
      "Epoch 14/200\n",
      "1109/1109 [==============================] - 16s 15ms/step - loss: 0.1552 - accuracy: 0.9526 - val_loss: 0.1090 - val_accuracy: 0.9736\n",
      "Epoch 15/200\n",
      "1109/1109 [==============================] - 17s 16ms/step - loss: 0.1515 - accuracy: 0.9546 - val_loss: 0.1038 - val_accuracy: 0.9759\n",
      "Epoch 16/200\n",
      "1109/1109 [==============================] - 17s 15ms/step - loss: 0.1466 - accuracy: 0.9557 - val_loss: 0.1023 - val_accuracy: 0.9754\n",
      "Epoch 17/200\n",
      "1109/1109 [==============================] - 17s 15ms/step - loss: 0.1435 - accuracy: 0.9552 - val_loss: 0.0993 - val_accuracy: 0.9761\n",
      "Epoch 18/200\n",
      "1109/1109 [==============================] - 17s 15ms/step - loss: 0.1400 - accuracy: 0.9576 - val_loss: 0.0991 - val_accuracy: 0.9756\n",
      "Epoch 19/200\n",
      "1109/1109 [==============================] - 17s 15ms/step - loss: 0.1413 - accuracy: 0.9550 - val_loss: 0.0946 - val_accuracy: 0.9769\n",
      "Epoch 20/200\n",
      "1109/1109 [==============================] - 17s 15ms/step - loss: 0.1333 - accuracy: 0.9599 - val_loss: 0.0934 - val_accuracy: 0.9764\n",
      "Epoch 21/200\n",
      "1109/1109 [==============================] - 16s 15ms/step - loss: 0.1343 - accuracy: 0.9592 - val_loss: 0.0925 - val_accuracy: 0.9766\n",
      "Epoch 22/200\n",
      "1109/1109 [==============================] - 18s 16ms/step - loss: 0.1331 - accuracy: 0.9585 - val_loss: 0.0899 - val_accuracy: 0.9769\n",
      "Epoch 23/200\n",
      "1109/1109 [==============================] - 18s 16ms/step - loss: 0.1292 - accuracy: 0.9598 - val_loss: 0.0895 - val_accuracy: 0.9774\n",
      "Epoch 24/200\n",
      "1109/1109 [==============================] - 16s 15ms/step - loss: 0.1247 - accuracy: 0.9602 - val_loss: 0.0880 - val_accuracy: 0.9776\n",
      "Epoch 25/200\n",
      "1109/1109 [==============================] - 17s 16ms/step - loss: 0.1269 - accuracy: 0.9604 - val_loss: 0.0887 - val_accuracy: 0.9769\n",
      "Epoch 26/200\n",
      "1109/1109 [==============================] - 17s 16ms/step - loss: 0.1247 - accuracy: 0.9626 - val_loss: 0.0859 - val_accuracy: 0.9787\n",
      "Epoch 27/200\n",
      "1109/1109 [==============================] - 17s 15ms/step - loss: 0.1238 - accuracy: 0.9600 - val_loss: 0.0846 - val_accuracy: 0.9784\n",
      "Epoch 28/200\n",
      "1109/1109 [==============================] - 16s 15ms/step - loss: 0.1206 - accuracy: 0.9624 - val_loss: 0.0848 - val_accuracy: 0.9766\n",
      "Epoch 29/200\n",
      "1109/1109 [==============================] - 18s 16ms/step - loss: 0.1228 - accuracy: 0.9613 - val_loss: 0.0827 - val_accuracy: 0.9787\n",
      "Epoch 30/200\n",
      "1109/1109 [==============================] - 18s 16ms/step - loss: 0.1211 - accuracy: 0.9616 - val_loss: 0.0810 - val_accuracy: 0.9797\n",
      "Epoch 31/200\n",
      "1109/1109 [==============================] - 18s 16ms/step - loss: 0.1205 - accuracy: 0.9622 - val_loss: 0.0852 - val_accuracy: 0.9789\n",
      "Epoch 32/200\n",
      "1109/1109 [==============================] - 16s 15ms/step - loss: 0.1183 - accuracy: 0.9631 - val_loss: 0.0805 - val_accuracy: 0.9789\n",
      "Epoch 33/200\n",
      "1109/1109 [==============================] - 17s 15ms/step - loss: 0.1160 - accuracy: 0.9631 - val_loss: 0.0816 - val_accuracy: 0.9782\n",
      "Epoch 34/200\n",
      "1109/1109 [==============================] - 19s 17ms/step - loss: 0.1161 - accuracy: 0.9633 - val_loss: 0.0806 - val_accuracy: 0.9787\n",
      "Epoch 35/200\n",
      "1109/1109 [==============================] - 19s 17ms/step - loss: 0.1166 - accuracy: 0.9637 - val_loss: 0.0787 - val_accuracy: 0.9794\n",
      "Epoch 36/200\n",
      "1109/1109 [==============================] - 17s 16ms/step - loss: 0.1142 - accuracy: 0.9642 - val_loss: 0.0778 - val_accuracy: 0.9789\n",
      "Epoch 37/200\n",
      "1109/1109 [==============================] - 17s 15ms/step - loss: 0.1118 - accuracy: 0.9646 - val_loss: 0.0766 - val_accuracy: 0.9794\n",
      "Epoch 38/200\n",
      "1109/1109 [==============================] - 17s 15ms/step - loss: 0.1133 - accuracy: 0.9649 - val_loss: 0.0777 - val_accuracy: 0.9787\n",
      "Epoch 39/200\n",
      "1109/1109 [==============================] - 17s 15ms/step - loss: 0.1118 - accuracy: 0.9641 - val_loss: 0.0770 - val_accuracy: 0.9794\n",
      "Epoch 40/200\n",
      "1109/1109 [==============================] - 18s 16ms/step - loss: 0.1130 - accuracy: 0.9646 - val_loss: 0.0762 - val_accuracy: 0.9792\n",
      "Epoch 41/200\n",
      "1109/1109 [==============================] - 18s 16ms/step - loss: 0.1136 - accuracy: 0.9633 - val_loss: 0.0763 - val_accuracy: 0.9797\n",
      "Epoch 42/200\n",
      "1109/1109 [==============================] - 18s 16ms/step - loss: 0.1100 - accuracy: 0.9654 - val_loss: 0.0745 - val_accuracy: 0.9802\n",
      "Epoch 43/200\n",
      "1109/1109 [==============================] - 17s 15ms/step - loss: 0.1108 - accuracy: 0.9647 - val_loss: 0.0748 - val_accuracy: 0.9792\n",
      "Epoch 44/200\n",
      "1109/1109 [==============================] - 18s 16ms/step - loss: 0.1094 - accuracy: 0.9655 - val_loss: 0.0755 - val_accuracy: 0.9807\n",
      "Epoch 45/200\n",
      "1109/1109 [==============================] - 18s 16ms/step - loss: 0.1097 - accuracy: 0.9656 - val_loss: 0.0750 - val_accuracy: 0.9807\n",
      "Epoch 46/200\n",
      "1109/1109 [==============================] - 17s 15ms/step - loss: 0.1083 - accuracy: 0.9649 - val_loss: 0.0751 - val_accuracy: 0.9815\n",
      "Epoch 47/200\n",
      "1109/1109 [==============================] - 18s 16ms/step - loss: 0.1080 - accuracy: 0.9659 - val_loss: 0.0737 - val_accuracy: 0.9807\n",
      "Epoch 48/200\n",
      "1109/1109 [==============================] - 18s 16ms/step - loss: 0.1081 - accuracy: 0.9654 - val_loss: 0.0744 - val_accuracy: 0.9802\n",
      "Epoch 49/200\n",
      "1109/1109 [==============================] - 18s 17ms/step - loss: 0.1043 - accuracy: 0.9671 - val_loss: 0.0727 - val_accuracy: 0.9809\n",
      "Epoch 50/200\n",
      "1109/1109 [==============================] - 16s 15ms/step - loss: 0.1051 - accuracy: 0.9655 - val_loss: 0.0748 - val_accuracy: 0.9804\n",
      "Epoch 51/200\n",
      "1109/1109 [==============================] - 17s 15ms/step - loss: 0.1056 - accuracy: 0.9657 - val_loss: 0.0737 - val_accuracy: 0.9797\n",
      "Epoch 52/200\n",
      "1109/1109 [==============================] - 17s 16ms/step - loss: 0.1066 - accuracy: 0.9654 - val_loss: 0.0728 - val_accuracy: 0.9799\n",
      "Epoch 53/200\n",
      "1109/1109 [==============================] - 18s 16ms/step - loss: 0.1079 - accuracy: 0.9661 - val_loss: 0.0729 - val_accuracy: 0.9794\n",
      "Epoch 54/200\n",
      "1109/1109 [==============================] - 17s 15ms/step - loss: 0.1049 - accuracy: 0.9669 - val_loss: 0.0729 - val_accuracy: 0.9807\n"
     ]
    }
   ],
   "source": [
    "history = VGG16_feature_extraction_model.fit(base_model_block5_pool_tr_ds, \n",
    "                                             epochs=epochs, \n",
    "                                             validation_data=base_model_block5_pool_val_ds, \n",
    "                                             callbacks=[callbacks])"
   ]
  },
  {
   "cell_type": "code",
   "execution_count": 38,
   "metadata": {},
   "outputs": [
    {
     "data": {
      "image/png": "[encoded data removed]",
      "text/plain": [
       "<Figure size 720x360 with 2 Axes>"
      ]
     },
     "metadata": {
      "needs_background": "light"
     },
     "output_type": "display_data"
    }
   ],
   "source": [
    "acc = history.history['accuracy']\n",
    "val_acc = history.history['val_accuracy']\n",
    "loss = history.history['loss']\n",
    "val_loss = history.history['val_loss']\n",
    "epochs = history.epoch\n",
    "\n",
    "fig, axes = plt.subplots(ncols=2, figsize=(10, 5))\n",
    "ax = axes[0]\n",
    "ax.plot(epochs, acc, 'b')\n",
    "ax.plot(epochs, val_acc, 'r')\n",
    "ax.set_title(\"Accuracy\")\n",
    "\n",
    "ax = axes[1]\n",
    "ax.semilogy(epochs, loss, 'b', label = 'training')\n",
    "ax.semilogy(epochs, val_loss, 'r', label = 'validation')\n",
    "ax.set_title(\"Loss\")\n",
    "ax.legend(loc='upper right')\n",
    "\n",
    "plt.show()"
   ]
  },
  {
   "cell_type": "code",
   "execution_count": 39,
   "metadata": {},
   "outputs": [
    {
     "name": "stdout",
     "output_type": "stream",
     "text": [
      "INFO:tensorflow:Assets written to: VGG16_V3a_feature_extraction_model/assets\n"
     ]
    }
   ],
   "source": [
    "VGG16_feature_extraction_model.save('VGG16_V3a_feature_extraction_model')"
   ]
  },
  {
   "cell_type": "code",
   "execution_count": 22,
   "metadata": {},
   "outputs": [],
   "source": [
    "VGG16_feature_extraction_model = keras.models.load_model('VGG16_V3a_feature_extraction_model')"
   ]
  },
  {
   "cell_type": "code",
   "execution_count": null,
   "metadata": {},
   "outputs": [],
   "source": []
  },
  {
   "cell_type": "code",
   "execution_count": null,
   "metadata": {},
   "outputs": [],
   "source": []
  },
  {
   "cell_type": "markdown",
   "metadata": {},
   "source": [
    "test prediction"
   ]
  },
  {
   "cell_type": "code",
   "execution_count": 41,
   "metadata": {},
   "outputs": [
    {
     "data": {
      "text/plain": [
       "(array([[1.6883546e-06, 7.2748378e-07, 6.8957416e-11, 2.6376783e-16,\n",
       "         9.9999762e-01, 1.0689955e-17, 2.5430663e-14, 3.1723404e-12,\n",
       "         3.8164270e-08, 2.0658341e-11, 2.5445472e-17, 3.8189681e-12,\n",
       "         8.4273647e-12]], dtype=float32),\n",
       " 4)"
      ]
     },
     "execution_count": 41,
     "metadata": {},
     "output_type": "execute_result"
    }
   ],
   "source": [
    "img_file = glob.glob('../../Data/datasets/data_test_V1/*.jpg')[0]\n",
    "\n",
    "\n",
    "img = keras.preprocessing.image.load_img(img_file, target_size=image_size)\n",
    "img_array = keras.preprocessing.image.img_to_array(img)\n",
    "img_array = tf.expand_dims(img_array, 0)  # Create batch \n",
    "(VGG16_feature_extraction_model.predict(base_model.predict(img_array)), \n",
    "np.argmax(VGG16_feature_extraction_model.predict(base_model.predict(img_array)),))"
   ]
  },
  {
   "cell_type": "markdown",
   "metadata": {},
   "source": [
    "### Evaluation<a id='eval_feat_extract'></a>\n",
    "[top](#top)"
   ]
  },
  {
   "cell_type": "code",
   "execution_count": 42,
   "metadata": {},
   "outputs": [],
   "source": [
    "def get_VGG16_feature_extraction_model_prediction(filename):\n",
    "    img = keras.preprocessing.image.load_img(filename, target_size=(224,224))\n",
    "    img_array = keras.preprocessing.image.img_to_array(img)\n",
    "    img_array = tf.expand_dims(img_array, 0)  # Create batch axis\n",
    "    img_array = tf.keras.applications.vgg16.preprocess_input(img_array)\n",
    "    preds = base_model.predict(img_array)\n",
    "    VGG16_feature_extraction_model_prediction = np.argmax(VGG16_feature_extraction_model.predict(preds)[0])\n",
    "    proba = np.max(VGG16_feature_extraction_model.predict(preds)[0])\n",
    "    \n",
    "    return VGG16_feature_extraction_model_prediction, proba"
   ]
  },
  {
   "cell_type": "markdown",
   "metadata": {},
   "source": [
    "Confusion Matrix using val_dataset"
   ]
  },
  {
   "cell_type": "code",
   "execution_count": 43,
   "metadata": {},
   "outputs": [],
   "source": [
    "with open('./lst_img_val_V3.pkl', 'rb') as f:\n",
    "    lst_img_val_V3 = pickle.load(f)"
   ]
  },
  {
   "cell_type": "code",
   "execution_count": 44,
   "metadata": {
    "scrolled": true
   },
   "outputs": [
    {
     "data": {
      "application/vnd.jupyter.widget-view+json": {
       "model_id": "fa822be3e686414fb0428ad625e1fa72",
       "version_major": 2,
       "version_minor": 0
      },
      "text/plain": [
       "  0%|          | 0/3944 [00:00<?, ?it/s]"
      ]
     },
     "metadata": {},
     "output_type": "display_data"
    },
    {
     "name": "stderr",
     "output_type": "stream",
     "text": [
      "/home/gael/anaconda3/envs/llr_prod2/lib/python3.8/site-packages/PIL/Image.py:2847: DecompressionBombWarning: Image size (175091056 pixels) exceeds limit of 89478485 pixels, could be decompression bomb DOS attack.\n",
      "  warnings.warn(\n"
     ]
    }
   ],
   "source": [
    "lst_labels = []\n",
    "lst_preds = []\n",
    "lst_probs = []\n",
    "for filename in tqdm(lst_img_val_V3[:]):\n",
    "    try:\n",
    "        lst_labels.append(remap_dict[category2label[filename.split('/')[-2]]])\n",
    "        model_output = get_VGG16_feature_extraction_model_prediction(filename)\n",
    "        lst_preds.append(model_output[0])\n",
    "        lst_probs.append(model_output[1])\n",
    "    except Exception as e:\n",
    "        print(e)"
   ]
  },
  {
   "cell_type": "code",
   "execution_count": null,
   "metadata": {},
   "outputs": [],
   "source": [
    "print(metrics.classification_report(lst_labels, lst_preds, \n",
    "                                    target_names=[x for x in label2category.values()]))"
   ]
  },
  {
   "cell_type": "code",
   "execution_count": null,
   "metadata": {},
   "outputs": [],
   "source": [
    "df_cm = pd.DataFrame(metrics.confusion_matrix(lst_labels, lst_preds),\n",
    "                     index = [x for x in label2category.values()],\n",
    "                     columns = [x for x in label2category.values()])\n",
    "plt.figure(figsize = (10,10))\n",
    "sns.heatmap(df_cm, annot=True, fmt=\"d\", cmap=\"YlGnBu\")"
   ]
  },
  {
   "cell_type": "code",
   "execution_count": 49,
   "metadata": {},
   "outputs": [],
   "source": [
    "df_val = pd.DataFrame({'filename' : lst_img_val_V3,\n",
    "              'lst_labels' : [remap_dict[x] for x in lst_labels],\n",
    "              'lst_preds' : lst_preds, \n",
    "              'lst_probs' : lst_probs})\n",
    "\n",
    "len(df_val[df_val['lst_labels'] != df_val['lst_preds']])"
   ]
  },
  {
   "cell_type": "markdown",
   "metadata": {},
   "source": [
    "## Transfer learning: Fine-tuning<a id='fine_tuning'></a>\n",
    "\n",
    "[top](#top)"
   ]
  },
  {
   "cell_type": "code",
   "execution_count": 26,
   "metadata": {},
   "outputs": [],
   "source": [
    "VGG16_feature_extraction_model = keras.models.load_model('VGG16_V3a_feature_extraction_model')"
   ]
  },
  {
   "cell_type": "code",
   "execution_count": 27,
   "metadata": {},
   "outputs": [],
   "source": [
    "lower_base_model = tf.keras.Model(inputs=base_model.input, \n",
    "                             outputs=base_model.get_layer('block4_pool').output)\n",
    "\n",
    "lower_base_model.trainable = False"
   ]
  },
  {
   "cell_type": "code",
   "execution_count": 54,
   "metadata": {},
   "outputs": [],
   "source": [
    "# last block of base_model\n",
    "block5_conv_input = keras.Input(shape=tuple(base_model.get_layer('block4_pool').output.shape.as_list()[1:]), \n",
    "                                name='block5_conv1_input')\n",
    "x = base_model.get_layer('block5_conv1')(block5_conv_input)\n",
    "x = base_model.get_layer('block5_conv2')(x)\n",
    "x = base_model.get_layer('block5_conv3')(x)\n",
    "x = base_model.get_layer('block5_pool')(x)\n",
    "# feat extraction model\n",
    "output = VGG16_feature_extraction_model(x)\n",
    "# fine-tune model\n",
    "fine_tune_model = keras.Model(block5_conv_input, output, name='fine_tune_model')\n",
    "fine_tune_model.trainable=True"
   ]
  },
  {
   "cell_type": "code",
   "execution_count": 55,
   "metadata": {},
   "outputs": [
    {
     "data": {
      "text/plain": [
       "[14, 14, 512]"
      ]
     },
     "execution_count": 55,
     "metadata": {},
     "output_type": "execute_result"
    }
   ],
   "source": [
    "lower_base_model.get_layer('block4_pool').output.shape.as_list()[1:]"
   ]
  },
  {
   "cell_type": "code",
   "execution_count": 56,
   "metadata": {},
   "outputs": [],
   "source": [
    "epochs = 100\n",
    "\n",
    "fine_tune_model.compile(\n",
    "    optimizer=keras.optimizers.Adam(5e-6),\n",
    "    loss=\"sparse_categorical_crossentropy\",\n",
    "    metrics=[\"accuracy\"],\n",
    ")"
   ]
  },
  {
   "cell_type": "code",
   "execution_count": 57,
   "metadata": {},
   "outputs": [],
   "source": [
    "log_dir = \"logs/fine-tune/\" + datetime.datetime.now().strftime(\"%Y%m%d-%H%M%S\")\n",
    "tensorboard_callback = tf.keras.callbacks.TensorBoard(log_dir=log_dir, histogram_freq=1)\n",
    "\n",
    "callbacks = [\n",
    "    keras.callbacks.ModelCheckpoint(\"save_at_{epoch}.h5\"),\n",
    "    keras.callbacks.EarlyStopping(monitor=\"val_loss\",\n",
    "                                  patience=2,\n",
    "                                  verbose=0,\n",
    "                                  mode=\"auto\",\n",
    "                                  baseline=None,\n",
    "                                  restore_best_weights=True,\n",
    "                                 ),\n",
    "    tensorboard_callback\n",
    "    ]"
   ]
  },
  {
   "cell_type": "code",
   "execution_count": 58,
   "metadata": {
    "scrolled": false
   },
   "outputs": [
    {
     "name": "stdout",
     "output_type": "stream",
     "text": [
      "Epoch 1/100\n",
      "1109/1109 [==============================] - 2172s 2s/step - loss: 0.0582 - accuracy: 0.9817 - val_loss: 0.0299 - val_accuracy: 0.9926\n",
      "Epoch 2/100\n",
      "1109/1109 [==============================] - 2062s 2s/step - loss: 0.0251 - accuracy: 0.9919 - val_loss: 0.0239 - val_accuracy: 0.9942\n",
      "Epoch 3/100\n",
      "1109/1109 [==============================] - 2076s 2s/step - loss: 0.0159 - accuracy: 0.9955 - val_loss: 0.0178 - val_accuracy: 0.9947\n",
      "Epoch 4/100\n",
      "1109/1109 [==============================] - 2079s 2s/step - loss: 0.0110 - accuracy: 0.9967 - val_loss: 0.0183 - val_accuracy: 0.9947\n",
      "Epoch 5/100\n",
      "1109/1109 [==============================] - 2124s 2s/step - loss: 0.0084 - accuracy: 0.9973 - val_loss: 0.0191 - val_accuracy: 0.9952\n"
     ]
    }
   ],
   "source": [
    "history = fine_tune_model.fit(base_model_block4_pool_tr_ds, \n",
    "                                epochs=epochs, \n",
    "                                validation_data=base_model_block4_pool_val_ds, \n",
    "                                callbacks=[callbacks])"
   ]
  },
  {
   "cell_type": "code",
   "execution_count": 59,
   "metadata": {},
   "outputs": [
    {
     "data": {
      "image/png": "[encoded data removed]",
      "text/plain": [
       "<Figure size 720x360 with 2 Axes>"
      ]
     },
     "metadata": {
      "needs_background": "light"
     },
     "output_type": "display_data"
    }
   ],
   "source": [
    "acc = history.history['accuracy']\n",
    "val_acc = history.history['val_accuracy']\n",
    "loss = history.history['loss']\n",
    "val_loss = history.history['val_loss']\n",
    "epochs = history.epoch\n",
    "\n",
    "fig, axes = plt.subplots(ncols=2, figsize=(10, 5))\n",
    "ax = axes[0]\n",
    "ax.plot(epochs, acc, 'b')\n",
    "ax.plot(epochs, val_acc, 'r')\n",
    "ax.set_title(\"Accuracy\")\n",
    "\n",
    "ax = axes[1]\n",
    "ax.semilogy(epochs, loss, 'b', label = 'training')\n",
    "ax.semilogy(epochs, val_loss, 'r', label = 'validation')\n",
    "ax.set_title(\"Loss\")\n",
    "ax.legend(loc='upper right')\n",
    "\n",
    "plt.show()"
   ]
  },
  {
   "cell_type": "code",
   "execution_count": 60,
   "metadata": {},
   "outputs": [
    {
     "name": "stdout",
     "output_type": "stream",
     "text": [
      "INFO:tensorflow:Assets written to: VGG16_V3a_fine_tune_model/assets\n"
     ]
    }
   ],
   "source": [
    "fine_tune_model.save('VGG16_V3a_fine_tune_model')"
   ]
  },
  {
   "cell_type": "code",
   "execution_count": 23,
   "metadata": {},
   "outputs": [],
   "source": [
    "fine_tune_model = keras.models.load_model('VGG16_V3a_fine_tune_model')"
   ]
  },
  {
   "cell_type": "code",
   "execution_count": 24,
   "metadata": {},
   "outputs": [
    {
     "name": "stdout",
     "output_type": "stream",
     "text": [
      "Model: \"fine_tune_model\"\n",
      "_________________________________________________________________\n",
      " Layer (type)                Output Shape              Param #   \n",
      "=================================================================\n",
      " block5_conv1_input (InputLa  [(None, 14, 14, 512)]    0         \n",
      " yer)                                                            \n",
      "                                                                 \n",
      " block5_conv1 (Conv2D)       (None, 14, 14, 512)       2359808   \n",
      "                                                                 \n",
      " block5_conv2 (Conv2D)       (None, 14, 14, 512)       2359808   \n",
      "                                                                 \n",
      " block5_conv3 (Conv2D)       (None, 14, 14, 512)       2359808   \n",
      "                                                                 \n",
      " block5_pool (MaxPooling2D)  (None, 7, 7, 512)         0         \n",
      "                                                                 \n",
      " model_39441 (Functional)    (None, 13)                6669      \n",
      "                                                                 \n",
      "=================================================================\n",
      "Total params: 7,086,093\n",
      "Trainable params: 7,086,093\n",
      "Non-trainable params: 0\n",
      "_________________________________________________________________\n"
     ]
    }
   ],
   "source": [
    "fine_tune_model.summary()"
   ]
  },
  {
   "cell_type": "markdown",
   "metadata": {},
   "source": [
    "### Evaluation<a id='eval_ft'></a>\n",
    "[top](#top)"
   ]
  },
  {
   "cell_type": "code",
   "execution_count": 63,
   "metadata": {},
   "outputs": [],
   "source": [
    "def get_fine_tune_model_prediction(filename):\n",
    "    img = keras.preprocessing.image.load_img(filename, target_size=(224,224))\n",
    "    img_array = keras.preprocessing.image.img_to_array(img)\n",
    "    img_array = tf.expand_dims(img_array, 0)  # Create batch axis\n",
    "    img_array = tf.keras.applications.vgg16.preprocess_input(img_array)\n",
    "    preds0 = lower_base_model.predict(img_array)\n",
    "    fine_tune_model_distrib = fine_tune_model.predict(preds0)[0]\n",
    "\n",
    "    fine_tune_model_prediction = np.argmax(fine_tune_model_distrib)\n",
    "    proba = np.max(fine_tune_model_distrib)\n",
    "    return fine_tune_model_prediction, proba"
   ]
  },
  {
   "cell_type": "markdown",
   "metadata": {},
   "source": [
    "Matrice de confusion sur images_list_ts"
   ]
  },
  {
   "cell_type": "code",
   "execution_count": 64,
   "metadata": {},
   "outputs": [],
   "source": [
    "with open('./lst_img_val_V3.pkl', 'rb') as f:\n",
    "    lst_img_val_V3 = pickle.load(f)"
   ]
  },
  {
   "cell_type": "code",
   "execution_count": 65,
   "metadata": {},
   "outputs": [
    {
     "data": {
      "application/vnd.jupyter.widget-view+json": {
       "model_id": "beb229bd20a84ff8b4540e43e2c7330f",
       "version_major": 2,
       "version_minor": 0
      },
      "text/plain": [
       "  0%|          | 0/3944 [00:00<?, ?it/s]"
      ]
     },
     "metadata": {},
     "output_type": "display_data"
    },
    {
     "name": "stderr",
     "output_type": "stream",
     "text": [
      "/home/gael/anaconda3/envs/llr_prod2/lib/python3.8/site-packages/PIL/Image.py:2847: DecompressionBombWarning: Image size (175091056 pixels) exceeds limit of 89478485 pixels, could be decompression bomb DOS attack.\n",
      "  warnings.warn(\n"
     ]
    }
   ],
   "source": [
    "lst_labels_ft = []\n",
    "lst_preds_ft = []\n",
    "lst_probs_ft = []\n",
    "for filename in tqdm(lst_img_val_V3):\n",
    "    lst_labels_ft.append(file2label[filename])\n",
    "    model_output = get_fine_tune_model_prediction(filename)\n",
    "    lst_preds_ft.append(model_output[0])\n",
    "    lst_probs_ft.append(model_output[1])"
   ]
  },
  {
   "cell_type": "code",
   "execution_count": null,
   "metadata": {},
   "outputs": [],
   "source": [
    "print(metrics.classification_report([remap_dict[x] for x in lst_labels_ft], lst_preds_ft, \n",
    "                                    target_names=[x for x in label2category.values()]))"
   ]
  },
  {
   "cell_type": "code",
   "execution_count": null,
   "metadata": {},
   "outputs": [],
   "source": [
    "df_cm = pd.DataFrame(metrics.confusion_matrix([remap_dict[x] for x in lst_labels_ft], lst_preds_ft),\n",
    "                     index = [x for x in label2category.values()],\n",
    "                     columns = [x for x in label2category.values()])\n",
    "plt.figure(figsize = (10,10))\n",
    "sns.heatmap(df_cm, annot=True, fmt=\"d\", cmap=\"YlGnBu\")"
   ]
  },
  {
   "cell_type": "code",
   "execution_count": null,
   "metadata": {},
   "outputs": [],
   "source": []
  },
  {
   "cell_type": "code",
   "execution_count": 69,
   "metadata": {},
   "outputs": [],
   "source": [
    "df_val = pd.DataFrame({'filename' : lst_img_val_V3,\n",
    "              'lst_labels_ft' : [remap_dict[x] for x in lst_labels_ft],\n",
    "              'lst_preds_ft' : lst_preds_ft, \n",
    "              'lst_probs_ft' : lst_probs_ft})"
   ]
  },
  {
   "cell_type": "code",
   "execution_count": null,
   "metadata": {},
   "outputs": [],
   "source": [
    "df_val[df_val['lst_labels_ft'] != df_val['lst_preds_ft']].style"
   ]
  },
  {
   "cell_type": "code",
   "execution_count": 76,
   "metadata": {},
   "outputs": [
    {
     "data": {
      "text/plain": [
       "0.005324543610547667"
      ]
     },
     "execution_count": 76,
     "metadata": {},
     "output_type": "execute_result"
    }
   ],
   "source": [
    "len(df_val[df_val['lst_labels_ft'] != df_val['lst_preds_ft']])/len(df_val)"
   ]
  },
  {
   "cell_type": "markdown",
   "metadata": {},
   "source": [
    "## Modele for inference<a id='model_infer'></a>\n",
    "[top](#top)"
   ]
  },
  {
   "cell_type": "code",
   "execution_count": 29,
   "metadata": {},
   "outputs": [
    {
     "name": "stdout",
     "output_type": "stream",
     "text": [
      "Model: \"model_6\"\n",
      "_________________________________________________________________\n",
      " Layer (type)                Output Shape              Param #   \n",
      "=================================================================\n",
      " input_2 (InputLayer)        [(None, 224, 224, 3)]     0         \n",
      "                                                                 \n",
      " model_4 (Functional)        (None, 14, 14, 512)       7635264   \n",
      "                                                                 \n",
      " fine_tune_model (Functional  (None, 13)               7086093   \n",
      " )                                                               \n",
      "                                                                 \n",
      "=================================================================\n",
      "Total params: 14,721,357\n",
      "Trainable params: 7,086,093\n",
      "Non-trainable params: 7,635,264\n",
      "_________________________________________________________________\n"
     ]
    }
   ],
   "source": [
    "# Create inference model\n",
    "inputs = lower_base_model.input\n",
    "x = lower_base_model(inputs)\n",
    "outputs = fine_tune_model(x)\n",
    "\n",
    "classifieur_VGG16_V3a = keras.Model(inputs, outputs)\n",
    "\n",
    "classifieur_VGG16_V3a.summary()"
   ]
  },
  {
   "cell_type": "code",
   "execution_count": 79,
   "metadata": {
    "scrolled": true
   },
   "outputs": [
    {
     "data": {
      "text/plain": [
       "[224, 224, 3]"
      ]
     },
     "execution_count": 79,
     "metadata": {},
     "output_type": "execute_result"
    }
   ],
   "source": [
    "input_shape = lower_base_model.layers[0].input.shape.as_list()[1:]\n",
    "input_shape"
   ]
  },
  {
   "cell_type": "code",
   "execution_count": null,
   "metadata": {},
   "outputs": [],
   "source": [
    "MODEL_DIR = '...'#tempfile.gettempdir()\n",
    "version = 1\n",
    "export_path = os.path.join(MODEL_DIR, str(version))\n",
    "print('export_path = {}\\n'.format(export_path))\n",
    "\n",
    "tf.keras.models.save_model(\n",
    "    <model_name>,\n",
    "    export_path,\n",
    "    overwrite=True,\n",
    "    include_optimizer=True,\n",
    "    save_format=None,\n",
    "    signatures=None,\n",
    "    options=None\n",
    ")\n",
    "\n",
    "print('\\nSaved model:')\n",
    "!ls -l {export_path}"
   ]
  },
  {
   "cell_type": "code",
   "execution_count": 32,
   "metadata": {},
   "outputs": [
    {
     "name": "stdout",
     "output_type": "stream",
     "text": [
      "WARNING:tensorflow:No training configuration found in save file, so the model was *not* compiled. Compile it manually.\n"
     ]
    }
   ],
   "source": [
    "inference_model = keras.models.load_model('.../1')"
   ]
  },
  {
   "cell_type": "code",
   "execution_count": null,
   "metadata": {},
   "outputs": [],
   "source": []
  },
  {
   "cell_type": "markdown",
   "metadata": {},
   "source": [
    "## Visualization<a id='visu'></a>\n",
    "[top](#top)"
   ]
  },
  {
   "cell_type": "code",
   "execution_count": 68,
   "metadata": {},
   "outputs": [
    {
     "data": {
      "application/vnd.jupyter.widget-view+json": {
       "model_id": "abf87cdb77e643ce9f8a69834d785983",
       "version_major": 2,
       "version_minor": 0
      },
      "text/plain": [
       "  0%|          | 0/279 [00:00<?, ?it/s]"
      ]
     },
     "metadata": {},
     "output_type": "display_data"
    }
   ],
   "source": [
    "preds = []\n",
    "\n",
    "for image in tqdm(glob.glob('../../Data/datasets/.../*.jpg')):\n",
    "    img = keras.preprocessing.image.load_img(image, target_size=(224,224))\n",
    "    img_array = keras.preprocessing.image.img_to_array(img)\n",
    "    img_array = tf.expand_dims(img_array, 0)  # Create batch axis\n",
    "    img_array = tf.keras.applications.vgg16.preprocess_input(img_array)\n",
    "    preds.append(label2category[np.argmax(inference_model.predict(img_array))])"
   ]
  },
  {
   "cell_type": "code",
   "execution_count": null,
   "metadata": {},
   "outputs": [],
   "source": [
    "pd.DataFrame(preds).value_counts()"
   ]
  },
  {
   "cell_type": "code",
   "execution_count": null,
   "metadata": {},
   "outputs": [],
   "source": []
  },
  {
   "cell_type": "code",
   "execution_count": 6,
   "metadata": {},
   "outputs": [],
   "source": [
    "def plot_heatmap(img_array, img_file):\n",
    "    alpha = 0.8 \n",
    "    heatmap = tf.reduce_sum(base_model.predict(img_array)[0], 2).numpy()\n",
    "\n",
    "    # Rescale heatmap to a range 0-255\n",
    "    M = np.max(heatmap)\n",
    "    h = (heatmap*255/M)\n",
    "    heatmap_ = np.uint8(np.ceil(h))\n",
    "\n",
    "    # Use jet colormap to colorize heatmap\n",
    "    jet = cm.get_cmap(\"cool\")\n",
    "\n",
    "    # Use RGB values of the colormap\n",
    "    jet_colors = jet(np.arange(256))[:, :3]\n",
    "    jet_heatmap = jet_colors[heatmap_]\n",
    "\n",
    "    # Create an image with RGB colorized heatmap\n",
    "    jet_heatmap = keras.preprocessing.image.array_to_img(jet_heatmap)\n",
    "    jet_heatmap = jet_heatmap.resize(image_size)\n",
    "    jet_heatmap = keras.preprocessing.image.img_to_array(jet_heatmap)\n",
    "\n",
    "    # Superimpose the heatmap on original image\n",
    "    superimposed_img = jet_heatmap * alpha + img_array[0]\n",
    "\n",
    "    # Rescale heatmap to a range 0-255\n",
    "    M = np.max(superimposed_img)\n",
    "    h = (superimposed_img*255/M)\n",
    "    superimposed_img_ = np.uint8(np.ceil(h))\n",
    "\n",
    "    ddp = inference_model.predict(img_array)\n",
    "    pred = label2category[np.argmax(ddp)]\n",
    "    prob = np.max(ddp)\n",
    "    #plt.title(' pred=' +str(pred) + ' P=%.2f' %prob)\n",
    "    #print(img_file.split('/')[-1])\n",
    "    \n",
    "    plt.title('/'.join(img_file.split('/')[-2:]) + '\\n pred=' +str(pred) + ' P=%.2f' %prob)\n",
    "    plt.imshow(superimposed_img_)\n",
    "\n",
    "    plt.axis(\"off\")\n"
   ]
  },
  {
   "cell_type": "code",
   "execution_count": 7,
   "metadata": {},
   "outputs": [],
   "source": [
    "def display_examples(filenames):\n",
    "    plt.figure(figsize=(15,15))\n",
    "    alpha = 0.8    \n",
    "    for i, img_file in enumerate(filenames):\n",
    "        if i < 2:\n",
    "            ax = plt.subplot(2, 2, i + 1)\n",
    "        else:\n",
    "            ax = plt.subplot(2, 2, i + 1)\n",
    "        # Load the original image\n",
    "        img = keras.preprocessing.image.load_img(img_file, target_size=image_size)\n",
    "        img_array = keras.preprocessing.image.img_to_array(img)\n",
    "        img_array = tf.expand_dims(img_array, 0)\n",
    "        img_array = tf.keras.applications.vgg16.preprocess_input(img_array)\n",
    "\n",
    "        plot_heatmap(img_array, img_file)"
   ]
  },
  {
   "cell_type": "code",
   "execution_count": null,
   "metadata": {},
   "outputs": [],
   "source": []
  },
  {
   "cell_type": "code",
   "execution_count": 16,
   "metadata": {},
   "outputs": [
    {
     "name": "stdout",
     "output_type": "stream",
     "text": [
      "/home/gael/Service_mails/local_app/data/15761208.pdf_0.jpg\n",
      "[[9.02275026e-01 1.19527101e-06 3.15699651e-07 8.43276169e-08\n",
      "  1.27612773e-04 6.13536955e-08 5.36345551e-03 1.49072844e-06\n",
      "  2.14346190e-04 3.09347747e-08 2.25247029e-04 5.33507628e-05\n",
      "  1.79366991e-02 6.21346349e-04 2.26068150e-05 3.06103029e-05\n",
      "  5.44642598e-09 2.91489641e-06 4.11843018e-07 5.28768709e-08\n",
      "  5.36529132e-09 1.14681960e-07 2.64564815e-08 1.13288046e-09\n",
      "  6.63744686e-08 1.59847175e-08 1.31745794e-04 7.26932362e-02\n",
      "  7.35233625e-05 1.54276931e-04 2.46904051e-07 1.28878310e-05\n",
      "  5.50506993e-05 1.16916866e-07 4.06352171e-07 1.12710484e-06\n",
      "  1.64895795e-08 1.73704777e-07]]\n",
      "Autres\n"
     ]
    },
    {
     "data": {
      "image/png": "[encoded data removed]",
      "text/plain": [
       "<Figure size 720x360 with 1 Axes>"
      ]
     },
     "metadata": {
      "needs_background": "light"
     },
     "output_type": "display_data"
    }
   ],
   "source": [
    "image = '0.jpg'\n",
    "img = tf.keras.preprocessing.image.load_img(image, target_size=(224,224))\n",
    "img_array = tf.keras.preprocessing.image.img_to_array(img)\n",
    "img_array = tf.expand_dims(img_array, 0)  # Create batch axis\n",
    "img_array = tf.keras.applications.vgg16.preprocess_input(img_array)\n",
    "print(inference_model.predict(img_array))\n",
    "print(label2category[np.argmax(inference_model.predict(img_array))])\n",
    "plot_heatmap(img_array, image)"
   ]
  }
 ],
 "metadata": {
  "kernelspec": {
   "display_name": "Python 3",
   "language": "python",
   "name": "python3"
  },
  "language_info": {
   "codemirror_mode": {
    "name": "ipython",
    "version": 3
   },
   "file_extension": ".py",
   "mimetype": "text/x-python",
   "name": "python",
   "nbconvert_exporter": "python",
   "pygments_lexer": "ipython3",
   "version": "3.8.5"
  }
 },
 "nbformat": 4,
 "nbformat_minor": 5
}
